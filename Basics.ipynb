{
 "cells": [
  {
   "cell_type": "markdown",
   "metadata": {},
   "source": [
    "# Profitable Apps for the App Store & Google Play\n",
    "\n",
    "In this project, I will be acting as a data analyst for a company that builds Android and iOS mobile apps. This company only builds apps that are free to download & install, and its main source of revenue consists of in-app ads. Therefore, the company's revenue of any of its apps is greatly tied to its number of users.\n",
    "\n",
    "The goal of this project is to analyze data to help company developers understand what types of apps are likely to attract more users, and thus, are more profitable."
   ]
  },
  {
   "cell_type": "code",
   "execution_count": 2,
   "metadata": {},
   "outputs": [],
   "source": [
    "from csv import reader\n",
    "\n",
    "#App Store dataset\n",
    "open_apple = open('AppleStore.csv')\n",
    "read_apple = reader(open_apple)\n",
    "apple_data = list(read_apple)\n",
    "apple_header, apple_data = apple_data[0], apple_data[1:]\n",
    "\n",
    "\n",
    "#Google Play dataset\n",
    "open_google = open('googleplaystore.csv')\n",
    "read_google = reader(open_google)\n",
    "google_data = list(read_google)\n",
    "google_header, google_data = google_data[0], google_data[1:]"
   ]
  },
  {
   "cell_type": "markdown",
   "metadata": {},
   "source": [
    "To make the datasets easier to explore, I utilize the function `explore_data()`, as written below. This function is used to repeatedly print rows in a readable way, as well as print the number of rows & columns present in a given dataset."
   ]
  },
  {
   "cell_type": "code",
   "execution_count": 3,
   "metadata": {},
   "outputs": [],
   "source": [
    "def explore_data(dataset, start, end, rows_and_columns=False):\n",
    "    dataset_slice = dataset[start:end]    \n",
    "    for row in dataset_slice:\n",
    "        print(row)\n",
    "        print('\\n') # adds a new (empty) line after each row\n",
    "\n",
    "    if rows_and_columns:\n",
    "        print('Number of rows:', len(dataset))\n",
    "        print('Number of columns:', len(dataset[0]))"
   ]
  },
  {
   "cell_type": "code",
   "execution_count": 4,
   "metadata": {},
   "outputs": [
    {
     "name": "stdout",
     "output_type": "stream",
     "text": [
      "['id', 'track_name', 'size_bytes', 'currency', 'price', 'rating_count_tot', 'rating_count_ver', 'user_rating', 'user_rating_ver', 'ver', 'cont_rating', 'prime_genre', 'sup_devices.num', 'ipadSc_urls.num', 'lang.num', 'vpp_lic']\n",
      "\n",
      "\n",
      "['284882215', 'Facebook', '389879808', 'USD', '0.0', '2974676', '212', '3.5', '3.5', '95.0', '4+', 'Social Networking', '37', '1', '29', '1']\n",
      "\n",
      "\n",
      "['389801252', 'Instagram', '113954816', 'USD', '0.0', '2161558', '1289', '4.5', '4.0', '10.23', '12+', 'Photo & Video', '37', '0', '29', '1']\n",
      "\n",
      "\n",
      "['529479190', 'Clash of Clans', '116476928', 'USD', '0.0', '2130805', '579', '4.5', '4.5', '9.24.12', '9+', 'Games', '38', '5', '18', '1']\n",
      "\n",
      "\n",
      "Number of rows: 7197\n",
      "Number of columns: 16\n"
     ]
    }
   ],
   "source": [
    "print(apple_header)\n",
    "print('\\n')\n",
    "explore_data(apple_data,0,3,True)"
   ]
  },
  {
   "cell_type": "markdown",
   "metadata": {},
   "source": [
    "As we can see above, the App Store dataset has a total of 7197 rows (apps), and 16 columns present. Looking ahead, the columns `'track_name'`, `'currency'`, `'price'`, `'rating_count_tot'`, `'rating_count_ver'`, and `'prime_genre'` may be of interest for further analysis. \n",
    "\n",
    "For details regarding each column, see [here](https://www.kaggle.com/ramamet4/app-store-apple-data-set-10k-apps/home).\n",
    "\n",
    "Now for the Google Play dataset:"
   ]
  },
  {
   "cell_type": "code",
   "execution_count": 5,
   "metadata": {},
   "outputs": [
    {
     "name": "stdout",
     "output_type": "stream",
     "text": [
      "['App', 'Category', 'Rating', 'Reviews', 'Size', 'Installs', 'Type', 'Price', 'Content Rating', 'Genres', 'Last Updated', 'Current Ver', 'Android Ver']\n",
      "\n",
      "\n",
      "['Photo Editor & Candy Camera & Grid & ScrapBook', 'ART_AND_DESIGN', '4.1', '159', '19M', '10,000+', 'Free', '0', 'Everyone', 'Art & Design', 'January 7, 2018', '1.0.0', '4.0.3 and up']\n",
      "\n",
      "\n",
      "['Coloring book moana', 'ART_AND_DESIGN', '3.9', '967', '14M', '500,000+', 'Free', '0', 'Everyone', 'Art & Design;Pretend Play', 'January 15, 2018', '2.0.0', '4.0.3 and up']\n",
      "\n",
      "\n",
      "['U Launcher Lite – FREE Live Cool Themes, Hide Apps', 'ART_AND_DESIGN', '4.7', '87510', '8.7M', '5,000,000+', 'Free', '0', 'Everyone', 'Art & Design', 'August 1, 2018', '1.2.4', '4.0.3 and up']\n",
      "\n",
      "\n",
      "Number of rows: 10841\n",
      "Number of columns: 13\n"
     ]
    }
   ],
   "source": [
    "print(google_header)\n",
    "print('\\n')\n",
    "explore_data(google_data,0,3,True)"
   ]
  },
  {
   "cell_type": "markdown",
   "metadata": {},
   "source": [
    "The Google Play dataset consists of 10841 rows (apps), with 13 columns present. At a glance, the columns `'App'`, `'Category'`, `'Reviews'`, `'Installs'`, `'Type'`, `'Price'`, and `'Genres'` will likely be of use for further analysis."
   ]
  },
  {
   "cell_type": "markdown",
   "metadata": {},
   "source": [
    "## Data Cleaning\n",
    "\n",
    "### Detecting & Deleting Inaccurate Data\n",
    "\n",
    "The Google Play dataset has a dedicated [discussion section](https://www.kaggle.com/lava18/google-play-store-apps/discussion?sort=recent-comments), where [one of the discussions](https://www.kaggle.com/lava18/google-play-store-apps/discussion/66015) describes an error for row 10472.\n",
    "\n",
    "Below, I've printed row 10472, as well as the header for this dataset, and another row for comparison."
   ]
  },
  {
   "cell_type": "code",
   "execution_count": 6,
   "metadata": {},
   "outputs": [
    {
     "name": "stdout",
     "output_type": "stream",
     "text": [
      "['Life Made WI-Fi Touchscreen Photo Frame', '1.9', '19', '3.0M', '1,000+', 'Free', '0', 'Everyone', '', 'February 11, 2018', '1.0.19', '4.0 and up']\n",
      "\n",
      "\n",
      "['App', 'Category', 'Rating', 'Reviews', 'Size', 'Installs', 'Type', 'Price', 'Content Rating', 'Genres', 'Last Updated', 'Current Ver', 'Android Ver']\n",
      "\n",
      "\n",
      "['Photo Editor & Candy Camera & Grid & ScrapBook', 'ART_AND_DESIGN', '4.1', '159', '19M', '10,000+', 'Free', '0', 'Everyone', 'Art & Design', 'January 7, 2018', '1.0.0', '4.0.3 and up']\n"
     ]
    }
   ],
   "source": [
    "#wrong entry for row index 10472 vs. row index 0\n",
    "print(google_data[10472])\n",
    "print('\\n')\n",
    "print(google_header)\n",
    "print('\\n')\n",
    "print(google_data[0])"
   ]
  },
  {
   "cell_type": "markdown",
   "metadata": {},
   "source": [
    "The error is immediately noticeable in the `'Category'` column. Instead of a categorical entry (such as the 'ART_AND_DESIGN' entry in our comparison row), it has a listed numerical entry of '1.9'. \n",
    "\n",
    "In fact, the true `'Category'` entry for row 10472 is missing (as mentioned [here](https://www.kaggle.com/lava18/google-play-store-apps/discussion/66015)), causing all further entries for that row to be inappropriately shifted one column over.\n",
    "\n",
    "Thus, this particular app will be removed from our data."
   ]
  },
  {
   "cell_type": "code",
   "execution_count": 7,
   "metadata": {},
   "outputs": [
    {
     "name": "stdout",
     "output_type": "stream",
     "text": [
      "10841\n",
      "10840\n"
     ]
    }
   ],
   "source": [
    "print(len(google_data))\n",
    "del google_data[10472]\n",
    "print(len(google_data))"
   ]
  },
  {
   "cell_type": "markdown",
   "metadata": {},
   "source": [
    "### Detecting & Removing Duplicate Data\n",
    "\n",
    "If you explore the Google Play dataset long enough, you'll notice some apps have duplicate entries. For instance, Instagram has four entries:"
   ]
  },
  {
   "cell_type": "code",
   "execution_count": 8,
   "metadata": {},
   "outputs": [
    {
     "name": "stdout",
     "output_type": "stream",
     "text": [
      "['Instagram', 'SOCIAL', '4.5', '66577313', 'Varies with device', '1,000,000,000+', 'Free', '0', 'Teen', 'Social', 'July 31, 2018', 'Varies with device', 'Varies with device']\n",
      "['Instagram', 'SOCIAL', '4.5', '66577446', 'Varies with device', '1,000,000,000+', 'Free', '0', 'Teen', 'Social', 'July 31, 2018', 'Varies with device', 'Varies with device']\n",
      "['Instagram', 'SOCIAL', '4.5', '66577313', 'Varies with device', '1,000,000,000+', 'Free', '0', 'Teen', 'Social', 'July 31, 2018', 'Varies with device', 'Varies with device']\n",
      "['Instagram', 'SOCIAL', '4.5', '66509917', 'Varies with device', '1,000,000,000+', 'Free', '0', 'Teen', 'Social', 'July 31, 2018', 'Varies with device', 'Varies with device']\n"
     ]
    }
   ],
   "source": [
    "for app in google_data:\n",
    "    name = app[0]\n",
    "    if name == 'Instagram':\n",
    "        print(app)"
   ]
  },
  {
   "cell_type": "markdown",
   "metadata": {},
   "source": [
    "In total, there are 1181 cases where an app occurs more than once:"
   ]
  },
  {
   "cell_type": "code",
   "execution_count": 9,
   "metadata": {
    "scrolled": true
   },
   "outputs": [
    {
     "name": "stdout",
     "output_type": "stream",
     "text": [
      "Number of duplicate apps:  1181\n",
      "Examples of duplicate apps: \n",
      "Quick PDF Scanner + OCR FREE\n",
      "Box\n",
      "Google My Business\n",
      "ZOOM Cloud Meetings\n",
      "join.me - Simple Meetings\n",
      "Box\n"
     ]
    }
   ],
   "source": [
    "duplicates = []\n",
    "unique_apps = []\n",
    "\n",
    "for app in google_data:\n",
    "    name = app[0]\n",
    "    if name in unique_apps:\n",
    "        duplicates.append(name)\n",
    "    else:\n",
    "        unique_apps.append(name)\n",
    "            \n",
    "print('Number of duplicate apps: ',len(duplicates))\n",
    "print('Examples of duplicate apps: ',*duplicates[:6],sep='\\n')"
   ]
  },
  {
   "cell_type": "markdown",
   "metadata": {},
   "source": [
    "If you examine the rows we printed two cells above for the Instagram app, the main difference happens in the fourth column of each row, which corresponds to the number of reviews. Rather than removing duplicates randomly, I'll only keep the row with the highest number of reviews and remove the other entries for any given app.\n",
    "\n",
    "This will be done in two steps:\n",
    "* Create a dictionary where each key is a unique app name and the corresponding dictionary value is the highest number of reviews of that app\n",
    "* Use the information stored in the dictionary and create a new dataset, which will have only one entry per app (and for each app, select the entry with the highest number of reviews)\n",
    "\n",
    "Building the dictionary:"
   ]
  },
  {
   "cell_type": "code",
   "execution_count": 10,
   "metadata": {},
   "outputs": [],
   "source": [
    "reviews_max = {}\n",
    "for app in google_data:\n",
    "    name = app[0]\n",
    "    n_reviews = float(app[3])\n",
    "    if (name in reviews_max) and (reviews_max[name] < n_reviews):\n",
    "        reviews_max[name] = n_reviews\n",
    "    elif name not in reviews_max:\n",
    "        reviews_max[name] = n_reviews"
   ]
  },
  {
   "cell_type": "markdown",
   "metadata": {},
   "source": [
    "Next, I will confirm that the length of `reviews_max` agrees with the length of the Google Play dataset once the number of duplicate rows has been subtracted:"
   ]
  },
  {
   "cell_type": "code",
   "execution_count": 11,
   "metadata": {},
   "outputs": [
    {
     "name": "stdout",
     "output_type": "stream",
     "text": [
      "Expected Length:  9659\n",
      "Actual Length:  9659\n"
     ]
    }
   ],
   "source": [
    "print('Expected Length: ',len(google_data)-len(duplicates))\n",
    "print('Actual Length: ',len(reviews_max))"
   ]
  },
  {
   "cell_type": "markdown",
   "metadata": {},
   "source": [
    "Using the `reviews_max` dictionary, I will remove duplicate entries from the Google Play dataset. Again, I will be using highest number of reviews as the criteria for which entries to keep.\n",
    "\n",
    "In the code cell below:\n",
    "* I start by initializing empty lists `google_clean` and `already_added`.\n",
    "* I loop through the Google Play dataset (`google_data`), and for each iteration:\n",
    "    * Assign the app name to a variable `name`, and number of reviews to `n_reviews`.\n",
    "    * Add the current row (`app`) to `google_clean` and add `name` to `already_added` if:\n",
    "        * The number of reviews is the same as the maximum reviews of that app, as found in `reviews_max`, and\n",
    "        * The name of the app is not already in the `already_added` list. This is to account for when the highest number of reviews of a duplicate app is the same for more than one entry."
   ]
  },
  {
   "cell_type": "code",
   "execution_count": 12,
   "metadata": {},
   "outputs": [],
   "source": [
    "google_clean = []\n",
    "already_added = []\n",
    "\n",
    "for app in google_data:\n",
    "    name = app[0]\n",
    "    n_reviews = float(app[3])\n",
    "    if (n_reviews == reviews_max[name]) and (name not in already_added):\n",
    "        google_clean.append(app)\n",
    "        already_added.append(name)"
   ]
  },
  {
   "cell_type": "markdown",
   "metadata": {},
   "source": [
    "Below, I will confirm that the length our new dataset, `google_clean`, agrees with that of `reviews_max`:"
   ]
  },
  {
   "cell_type": "code",
   "execution_count": 13,
   "metadata": {},
   "outputs": [
    {
     "name": "stdout",
     "output_type": "stream",
     "text": [
      "['Photo Editor & Candy Camera & Grid & ScrapBook', 'ART_AND_DESIGN', '4.1', '159', '19M', '10,000+', 'Free', '0', 'Everyone', 'Art & Design', 'January 7, 2018', '1.0.0', '4.0.3 and up']\n",
      "\n",
      "\n",
      "['U Launcher Lite – FREE Live Cool Themes, Hide Apps', 'ART_AND_DESIGN', '4.7', '87510', '8.7M', '5,000,000+', 'Free', '0', 'Everyone', 'Art & Design', 'August 1, 2018', '1.2.4', '4.0.3 and up']\n",
      "\n",
      "\n",
      "['Sketch - Draw & Paint', 'ART_AND_DESIGN', '4.5', '215644', '25M', '50,000,000+', 'Free', '0', 'Teen', 'Art & Design', 'June 8, 2018', 'Varies with device', '4.2 and up']\n",
      "\n",
      "\n",
      "Number of rows: 9659\n",
      "Number of columns: 13\n"
     ]
    }
   ],
   "source": [
    "explore_data(google_clean,0,3,True)"
   ]
  },
  {
   "cell_type": "markdown",
   "metadata": {},
   "source": [
    "As expected, `google_clean` has a total of 9659 rows (apps).\n",
    "\n",
    "Thankfully, the step of removing duplicates is rendered unneccesary for the App Store dataset (`apple_data`) due to the existence of a unique key in the `'id'` column, as evidenced below:"
   ]
  },
  {
   "cell_type": "code",
   "execution_count": 14,
   "metadata": {},
   "outputs": [
    {
     "name": "stdout",
     "output_type": "stream",
     "text": [
      "Number of Duplicate Entries:  0\n"
     ]
    }
   ],
   "source": [
    "unique_ids = []\n",
    "duplicate_ids = []\n",
    "\n",
    "for app in apple_data:\n",
    "    ids = app[0]\n",
    "    if ids in unique_ids:\n",
    "        duplicate_ids.append(ids)\n",
    "    else:\n",
    "        unique_ids.append(ids)\n",
    "print('Number of Duplicate Entries: ',len(duplicate_ids))"
   ]
  },
  {
   "cell_type": "markdown",
   "metadata": {},
   "source": [
    "## Removing Non-English Apps\n",
    "\n",
    "If you explore the datasets long enough, you'll find that both datasets have apps with names that suggest they are not designed for English-speaking audiences.\n",
    "\n",
    "For example:"
   ]
  },
  {
   "cell_type": "code",
   "execution_count": 15,
   "metadata": {},
   "outputs": [
    {
     "name": "stdout",
     "output_type": "stream",
     "text": [
      "爱奇艺PPS -《欢乐颂2》电视剧热播\n",
      "【脱出ゲーム】絶対に最後までプレイしないで 〜謎解き＆ブロックパズル〜\n",
      "\n",
      "\n",
      "中国語 AQリスニング\n",
      "لعبة تقدر تربح DZ\n"
     ]
    }
   ],
   "source": [
    "print(apple_data[813][1])\n",
    "print(apple_data[6731][1])\n",
    "print('\\n')\n",
    "print(google_clean[4412][0])\n",
    "print(google_clean[7940][0])"
   ]
  },
  {
   "cell_type": "markdown",
   "metadata": {},
   "source": [
    "I'm not interested in keeping these apps, so I'll remove them. One way to do this is to remove each app with a name containing a symbol that isn't commonly used in English text — English text usually includes letters from the English alphabet, numbers composed of digits from 0 to 9, punctuation marks (., !, ?, ;), and other symbols (+, *, /).\n",
    "\n",
    "The numbers corresponding to the characters we commonly use in an English text are all in the range 0 to 127, according to the ASCII system. This can be used to create a function that labels a string as containing ASCII characters outside of this range."
   ]
  },
  {
   "cell_type": "code",
   "execution_count": 16,
   "metadata": {},
   "outputs": [
    {
     "name": "stdout",
     "output_type": "stream",
     "text": [
      "True\n",
      "False\n"
     ]
    }
   ],
   "source": [
    "def is_eng(a_str):\n",
    "    for char in a_str:\n",
    "        char_num = ord(char)\n",
    "        if char_num > 127:\n",
    "            return False\n",
    "    return True\n",
    "\n",
    "print(is_eng('Instagram'))\n",
    "print(is_eng('爱奇艺PPS -《欢乐颂2》电视剧热播'))"
   ]
  },
  {
   "cell_type": "markdown",
   "metadata": {},
   "source": [
    "Unfortunately, the above function does not appropriately identify certain English app names with emojis or other symbols (™, — (em dash), – (en dash), etc.) that fall outside of the ASCII range. \n",
    "\n",
    "Using this function moving forward would mean losing useful data, as many English apps would be incorrectly labeled as non-English."
   ]
  },
  {
   "cell_type": "code",
   "execution_count": 17,
   "metadata": {},
   "outputs": [
    {
     "name": "stdout",
     "output_type": "stream",
     "text": [
      "False\n",
      "False\n",
      "8482\n",
      "128540\n"
     ]
    }
   ],
   "source": [
    "print(is_eng('Docs To Go™ Free Office Suite'))\n",
    "print(is_eng('Instachat 😜'))\n",
    "print(ord('™'))\n",
    "print(ord('😜'))"
   ]
  },
  {
   "cell_type": "markdown",
   "metadata": {},
   "source": [
    "To minimize the impact of data loss, I will instead edit the function to label app names which contain more than three characters outside the target 0-127 ASCII range:"
   ]
  },
  {
   "cell_type": "code",
   "execution_count": 18,
   "metadata": {},
   "outputs": [
    {
     "name": "stdout",
     "output_type": "stream",
     "text": [
      "True\n",
      "False\n",
      "True\n",
      "True\n"
     ]
    }
   ],
   "source": [
    "def is_eng(a_str):\n",
    "    non_eng = 0\n",
    "    for char in a_str:\n",
    "        char_num = ord(char)\n",
    "        if char_num > 127:\n",
    "            non_eng += 1\n",
    "    if non_eng > 3:\n",
    "        return False\n",
    "    else:\n",
    "        return True\n",
    "    \n",
    "print(is_eng('Instagram'))\n",
    "print(is_eng('爱奇艺PPS -《欢乐颂2》电视剧热播'))\n",
    "print(is_eng('Docs To Go™ Free Office Suite'))\n",
    "print(is_eng('Instachat 😜'))"
   ]
  },
  {
   "cell_type": "markdown",
   "metadata": {},
   "source": [
    "While the above filter function is not perfect, it should still be quite effective for analysis moving forward.\n",
    "\n",
    "Below, the `is_eng()` function is used to filter out non-English apps for from the Google Play and the App Store datasets:"
   ]
  },
  {
   "cell_type": "code",
   "execution_count": 19,
   "metadata": {},
   "outputs": [
    {
     "name": "stdout",
     "output_type": "stream",
     "text": [
      "['Photo Editor & Candy Camera & Grid & ScrapBook', 'ART_AND_DESIGN', '4.1', '159', '19M', '10,000+', 'Free', '0', 'Everyone', 'Art & Design', 'January 7, 2018', '1.0.0', '4.0.3 and up']\n",
      "\n",
      "\n",
      "['U Launcher Lite – FREE Live Cool Themes, Hide Apps', 'ART_AND_DESIGN', '4.7', '87510', '8.7M', '5,000,000+', 'Free', '0', 'Everyone', 'Art & Design', 'August 1, 2018', '1.2.4', '4.0.3 and up']\n",
      "\n",
      "\n",
      "['Sketch - Draw & Paint', 'ART_AND_DESIGN', '4.5', '215644', '25M', '50,000,000+', 'Free', '0', 'Teen', 'Art & Design', 'June 8, 2018', 'Varies with device', '4.2 and up']\n",
      "\n",
      "\n",
      "Number of rows: 9614\n",
      "Number of columns: 13\n",
      "\n",
      "\n",
      "['284882215', 'Facebook', '389879808', 'USD', '0.0', '2974676', '212', '3.5', '3.5', '95.0', '4+', 'Social Networking', '37', '1', '29', '1']\n",
      "\n",
      "\n",
      "['389801252', 'Instagram', '113954816', 'USD', '0.0', '2161558', '1289', '4.5', '4.0', '10.23', '12+', 'Photo & Video', '37', '0', '29', '1']\n",
      "\n",
      "\n",
      "['529479190', 'Clash of Clans', '116476928', 'USD', '0.0', '2130805', '579', '4.5', '4.5', '9.24.12', '9+', 'Games', '38', '5', '18', '1']\n",
      "\n",
      "\n",
      "Number of rows: 6183\n",
      "Number of columns: 16\n"
     ]
    }
   ],
   "source": [
    "google_eng = []\n",
    "apple_eng = []\n",
    "\n",
    "for app in google_clean:\n",
    "    name = app[0]\n",
    "    if is_eng(name):\n",
    "        google_eng.append(app)\n",
    "\n",
    "for app in apple_data:\n",
    "    name = app[1]\n",
    "    if is_eng(name):\n",
    "        apple_eng.append(app)\n",
    "        \n",
    "explore_data(google_eng,0,3,True)\n",
    "print('\\n')\n",
    "explore_data(apple_eng,0,3,True)"
   ]
  },
  {
   "cell_type": "markdown",
   "metadata": {},
   "source": [
    "As a result, I am left with two datasets which comprise 9614 Google Play apps and 6183 App Store apps."
   ]
  },
  {
   "cell_type": "markdown",
   "metadata": {},
   "source": [
    "### Isolating Free Apps\n",
    "\n",
    "As mentioned in the introduction, I am only concerned with apps that are free to download & install, whose main source of revenue consists of in-app ads. Since the above datasets contain both free and non-free apps, I will isolate the free apps below."
   ]
  },
  {
   "cell_type": "code",
   "execution_count": 20,
   "metadata": {},
   "outputs": [
    {
     "name": "stdout",
     "output_type": "stream",
     "text": [
      "Google Play dataset:\n",
      "Number of rows: 8864\n",
      "Number of columns: 13\n",
      "\n",
      "\n",
      "App Store dataset:\n",
      "Number of rows: 3222\n",
      "Number of columns: 16\n"
     ]
    }
   ],
   "source": [
    "google_final = []\n",
    "apple_final = []\n",
    "\n",
    "for app in google_eng:\n",
    "    price = float(app[7].lstrip('$'))\n",
    "    if price == 0:\n",
    "        google_final.append(app)\n",
    "        \n",
    "for app in apple_eng:\n",
    "    price = float(app[4].lstrip('$'))\n",
    "    if price == 0:\n",
    "        apple_final.append(app)\n",
    "\n",
    "print('Google Play dataset:')\n",
    "explore_data(google_final,0,0,True)\n",
    "print('\\n')\n",
    "print('App Store dataset:')\n",
    "explore_data(apple_final,0,0,True)"
   ]
  },
  {
   "cell_type": "markdown",
   "metadata": {},
   "source": [
    "Finally, I am left with 8864 free Google Android apps and 3222 free Apple iOS apps."
   ]
  },
  {
   "cell_type": "markdown",
   "metadata": {},
   "source": [
    "## Analysis\n",
    "\n",
    "### Most Common Apps by Genre\n",
    "As mentioned in the introduction, my goal is to determine the kinds of apps that are likely to attract a greater number of users, as this number is greatly tied to an app's revenue.\n",
    "\n",
    "To minimize risks and overhead, my validation strategy for an app idea has three steps:\n",
    "\n",
    "1. Build a minimal Android version of the app & add it to Google Play.\n",
    "2. If the app has a good response from users, develop it further.\n",
    "3. If the app is profitable after six months, build an iOS version of the app and add it to the App Store.\n",
    "\n",
    "Because our end goal is to add the app to both Google Play & the App store, I need to find app profiles that are successful in both markets.\n",
    "\n",
    "I will begin by building frequency tables based on the `'Category'` & `'Genres'` columns in the Google Play dataset, and the `'prime_genre'` column in the App Store dataset.\n",
    "\n",
    "Below are two functions I will use to build my frequency tables:"
   ]
  },
  {
   "cell_type": "code",
   "execution_count": 21,
   "metadata": {},
   "outputs": [],
   "source": [
    "def freq_table(dataset,index):\n",
    "    ft = {}\n",
    "    total = len(dataset)\n",
    "    for row in dataset:\n",
    "        element = row[index]\n",
    "        if element in ft:\n",
    "            ft[element] += 1\n",
    "        else:\n",
    "            ft[element] = 1\n",
    "    for key in ft:\n",
    "        ft[key] *= 100/total\n",
    "    return ft\n",
    "\n",
    "def display_table(dataset, index):\n",
    "    table = freq_table(dataset, index)\n",
    "    table_display = []\n",
    "    for key in table:\n",
    "        key_val_as_tuple = (table[key], key)\n",
    "        table_display.append(key_val_as_tuple)\n",
    "\n",
    "    table_sorted = sorted(table_display, reverse = True)\n",
    "    for entry in table_sorted:\n",
    "        print(entry[1], ':', entry[0])"
   ]
  },
  {
   "cell_type": "markdown",
   "metadata": {},
   "source": [
    "The `freq_table()` function creates a frequency table such that frequencies are expressed as percentages.\n",
    "\n",
    "The `display_table()` function is used to display the frequencies from a frequency table in descending order.\n",
    "\n",
    "----\n",
    "Starting with the frequency table for `'prime_genre'` in the App Store dataset:"
   ]
  },
  {
   "cell_type": "code",
   "execution_count": 22,
   "metadata": {},
   "outputs": [
    {
     "name": "stdout",
     "output_type": "stream",
     "text": [
      "Most Common iOS Apps by Genre\n",
      "Games : 58.16263190564866\n",
      "Entertainment : 7.883302296710117\n",
      "Photo & Video : 4.9658597144630665\n",
      "Education : 3.6623215394165114\n",
      "Social Networking : 3.2898820608317814\n",
      "Shopping : 2.60707635009311\n",
      "Utilities : 2.513966480446927\n",
      "Sports : 2.1415270018621975\n",
      "Music : 2.0484171322160147\n",
      "Health & Fitness : 2.0173805090006205\n",
      "Productivity : 1.7380509000620732\n",
      "Lifestyle : 1.5828677839851024\n",
      "News : 1.3345747982619491\n",
      "Travel : 1.2414649286157666\n",
      "Finance : 1.1173184357541899\n",
      "Weather : 0.8690254500310366\n",
      "Food & Drink : 0.8069522036002482\n",
      "Reference : 0.5586592178770949\n",
      "Business : 0.5276225946617008\n",
      "Book : 0.4345127250155183\n",
      "Navigation : 0.186219739292365\n",
      "Medical : 0.186219739292365\n",
      "Catalogs : 0.12414649286157665\n"
     ]
    }
   ],
   "source": [
    "#'prime_genre'\n",
    "print('Most Common iOS Apps by Genre')\n",
    "display_table(apple_final,11)"
   ]
  },
  {
   "cell_type": "markdown",
   "metadata": {},
   "source": [
    "Among free English apps in the App store, roughly 58% of them are games. This is clearly the most common genre by a wide margin, as the next most common genre, entertainment, only encompasses about 8% of these apps. These are followed by photo & video apps (~ 5%), education (~ 3.66%), and social networking (~ 3.29%).\n",
    "\n",
    "The general impression is that a large majority of free English apps in the App Store are designed for entertainment purposes (games, photo and video, social networking, sports, music, etc.), while there are fewer designed for practicality (education, shopping, utilities, productivity, lifestyle, etc.).\n",
    "\n",
    "However, it should be noted that the sheer number of apps in a particular genre is not indicative of the number of users for these types of apps. This frequency table alone cannot be used to recommend an app profile for the App Store market.\n",
    "\n",
    "Moving to the frequency tables for `'Category'` and `'Genres'` for the Google Play dataset:"
   ]
  },
  {
   "cell_type": "code",
   "execution_count": 23,
   "metadata": {
    "scrolled": false
   },
   "outputs": [
    {
     "name": "stdout",
     "output_type": "stream",
     "text": [
      "Most Common Android Apps by Category\n",
      "FAMILY : 18.90794223826715\n",
      "GAME : 9.724729241877258\n",
      "TOOLS : 8.461191335740073\n",
      "BUSINESS : 4.591606498194946\n",
      "LIFESTYLE : 3.903429602888087\n",
      "PRODUCTIVITY : 3.8921480144404335\n",
      "FINANCE : 3.700361010830325\n",
      "MEDICAL : 3.531137184115524\n",
      "SPORTS : 3.3957581227436826\n",
      "PERSONALIZATION : 3.3167870036101084\n",
      "COMMUNICATION : 3.2378158844765346\n",
      "HEALTH_AND_FITNESS : 3.0798736462093865\n",
      "PHOTOGRAPHY : 2.9444945848375452\n",
      "NEWS_AND_MAGAZINES : 2.7978339350180508\n",
      "SOCIAL : 2.6624548736462095\n",
      "TRAVEL_AND_LOCAL : 2.3352888086642603\n",
      "SHOPPING : 2.2450361010830324\n",
      "BOOKS_AND_REFERENCE : 2.143501805054152\n",
      "DATING : 1.861462093862816\n",
      "VIDEO_PLAYERS : 1.7937725631768955\n",
      "MAPS_AND_NAVIGATION : 1.3989169675090254\n",
      "FOOD_AND_DRINK : 1.2409747292418774\n",
      "EDUCATION : 1.1620036101083033\n",
      "ENTERTAINMENT : 0.9589350180505416\n",
      "LIBRARIES_AND_DEMO : 0.9363718411552348\n",
      "AUTO_AND_VEHICLES : 0.9250902527075813\n",
      "HOUSE_AND_HOME : 0.8235559566787004\n",
      "WEATHER : 0.8009927797833936\n",
      "EVENTS : 0.7107400722021661\n",
      "PARENTING : 0.654332129963899\n",
      "ART_AND_DESIGN : 0.6430505415162455\n",
      "COMICS : 0.6204873646209387\n",
      "BEAUTY : 0.5979241877256318\n"
     ]
    }
   ],
   "source": [
    "#'Category'\n",
    "print('Most Common Android Apps by Category')\n",
    "display_table(google_final,1)"
   ]
  },
  {
   "cell_type": "markdown",
   "metadata": {},
   "source": [
    "Unlike the free English apps in the App Store, those on Google Play seem to be more balanced between entertainment & practical purpose apps. None of the individual categories holds a majority, and the most numerous is the Family category at rougly 19%."
   ]
  },
  {
   "cell_type": "code",
   "execution_count": 24,
   "metadata": {
    "scrolled": false
   },
   "outputs": [
    {
     "name": "stdout",
     "output_type": "stream",
     "text": [
      "Most Common Android Apps by Genre\n",
      "Tools : 8.44990974729242\n",
      "Entertainment : 6.069494584837545\n",
      "Education : 5.347472924187726\n",
      "Business : 4.591606498194946\n",
      "Productivity : 3.8921480144404335\n",
      "Lifestyle : 3.8921480144404335\n",
      "Finance : 3.700361010830325\n",
      "Medical : 3.531137184115524\n",
      "Sports : 3.4634476534296033\n",
      "Personalization : 3.3167870036101084\n",
      "Communication : 3.2378158844765346\n",
      "Action : 3.1024368231046933\n",
      "Health & Fitness : 3.0798736462093865\n",
      "Photography : 2.9444945848375452\n",
      "News & Magazines : 2.7978339350180508\n",
      "Social : 2.6624548736462095\n",
      "Travel & Local : 2.3240072202166067\n",
      "Shopping : 2.2450361010830324\n",
      "Books & Reference : 2.143501805054152\n",
      "Simulation : 2.041967509025271\n",
      "Dating : 1.861462093862816\n",
      "Arcade : 1.8501805054151625\n",
      "Video Players & Editors : 1.7712093862815885\n",
      "Casual : 1.7599277978339352\n",
      "Maps & Navigation : 1.3989169675090254\n",
      "Food & Drink : 1.2409747292418774\n",
      "Puzzle : 1.128158844765343\n",
      "Racing : 0.9927797833935019\n",
      "Role Playing : 0.9363718411552348\n",
      "Libraries & Demo : 0.9363718411552348\n",
      "Auto & Vehicles : 0.9250902527075813\n",
      "Strategy : 0.9138086642599279\n",
      "House & Home : 0.8235559566787004\n",
      "Weather : 0.8009927797833936\n",
      "Events : 0.7107400722021661\n",
      "Adventure : 0.6768953068592058\n",
      "Comics : 0.6092057761732852\n",
      "Beauty : 0.5979241877256318\n",
      "Art & Design : 0.5979241877256318\n",
      "Parenting : 0.49638989169675096\n",
      "Card : 0.4512635379061372\n",
      "Casino : 0.42870036101083037\n",
      "Trivia : 0.41741877256317694\n",
      "Educational;Education : 0.39485559566787004\n",
      "Board : 0.3835740072202166\n",
      "Educational : 0.3722924187725632\n",
      "Education;Education : 0.3384476534296029\n",
      "Word : 0.2594765342960289\n",
      "Casual;Pretend Play : 0.23691335740072203\n",
      "Music : 0.20306859205776173\n",
      "Racing;Action & Adventure : 0.16922382671480146\n",
      "Puzzle;Brain Games : 0.16922382671480146\n",
      "Entertainment;Music & Video : 0.16922382671480146\n",
      "Casual;Brain Games : 0.13537906137184116\n",
      "Casual;Action & Adventure : 0.13537906137184116\n",
      "Arcade;Action & Adventure : 0.12409747292418774\n",
      "Action;Action & Adventure : 0.10153429602888087\n",
      "Educational;Pretend Play : 0.09025270758122744\n",
      "Simulation;Action & Adventure : 0.07897111913357402\n",
      "Parenting;Education : 0.07897111913357402\n",
      "Entertainment;Brain Games : 0.07897111913357402\n",
      "Board;Brain Games : 0.07897111913357402\n",
      "Parenting;Music & Video : 0.06768953068592058\n",
      "Educational;Brain Games : 0.06768953068592058\n",
      "Casual;Creativity : 0.06768953068592058\n",
      "Art & Design;Creativity : 0.06768953068592058\n",
      "Education;Pretend Play : 0.05640794223826715\n",
      "Role Playing;Pretend Play : 0.04512635379061372\n",
      "Education;Creativity : 0.04512635379061372\n",
      "Role Playing;Action & Adventure : 0.03384476534296029\n",
      "Puzzle;Action & Adventure : 0.03384476534296029\n",
      "Entertainment;Creativity : 0.03384476534296029\n",
      "Entertainment;Action & Adventure : 0.03384476534296029\n",
      "Educational;Creativity : 0.03384476534296029\n",
      "Educational;Action & Adventure : 0.03384476534296029\n",
      "Education;Music & Video : 0.03384476534296029\n",
      "Education;Brain Games : 0.03384476534296029\n",
      "Education;Action & Adventure : 0.03384476534296029\n",
      "Adventure;Action & Adventure : 0.03384476534296029\n",
      "Video Players & Editors;Music & Video : 0.02256317689530686\n",
      "Sports;Action & Adventure : 0.02256317689530686\n",
      "Simulation;Pretend Play : 0.02256317689530686\n",
      "Puzzle;Creativity : 0.02256317689530686\n",
      "Music;Music & Video : 0.02256317689530686\n",
      "Entertainment;Pretend Play : 0.02256317689530686\n",
      "Casual;Education : 0.02256317689530686\n",
      "Board;Action & Adventure : 0.02256317689530686\n",
      "Video Players & Editors;Creativity : 0.01128158844765343\n",
      "Trivia;Education : 0.01128158844765343\n",
      "Travel & Local;Action & Adventure : 0.01128158844765343\n",
      "Tools;Education : 0.01128158844765343\n",
      "Strategy;Education : 0.01128158844765343\n",
      "Strategy;Creativity : 0.01128158844765343\n",
      "Strategy;Action & Adventure : 0.01128158844765343\n",
      "Simulation;Education : 0.01128158844765343\n",
      "Role Playing;Brain Games : 0.01128158844765343\n",
      "Racing;Pretend Play : 0.01128158844765343\n",
      "Puzzle;Education : 0.01128158844765343\n",
      "Parenting;Brain Games : 0.01128158844765343\n",
      "Music & Audio;Music & Video : 0.01128158844765343\n",
      "Lifestyle;Pretend Play : 0.01128158844765343\n",
      "Lifestyle;Education : 0.01128158844765343\n",
      "Health & Fitness;Education : 0.01128158844765343\n",
      "Health & Fitness;Action & Adventure : 0.01128158844765343\n",
      "Entertainment;Education : 0.01128158844765343\n",
      "Communication;Creativity : 0.01128158844765343\n",
      "Comics;Creativity : 0.01128158844765343\n",
      "Casual;Music & Video : 0.01128158844765343\n",
      "Card;Action & Adventure : 0.01128158844765343\n",
      "Books & Reference;Education : 0.01128158844765343\n",
      "Art & Design;Pretend Play : 0.01128158844765343\n",
      "Art & Design;Action & Adventure : 0.01128158844765343\n",
      "Arcade;Pretend Play : 0.01128158844765343\n",
      "Adventure;Education : 0.01128158844765343\n"
     ]
    }
   ],
   "source": [
    "#'Genres'\n",
    "print('Most Common Android Apps by Genre')\n",
    "display_table(google_final,9)"
   ]
  },
  {
   "cell_type": "markdown",
   "metadata": {},
   "source": [
    "The frequency table for `'Genres'` reinforces much of what can be seen the previous table for `'Category'`. Representation for apps designed for practical purposes is much more balanced among free Englisn apps on Google Play than it was for those in the App Store. "
   ]
  },
  {
   "cell_type": "markdown",
   "metadata": {},
   "source": [
    "### Most Popular Apps by Genre\n",
    "\n",
    "Now that I've determined the most common kinds of apps by genre, I want to determine the kinds of apps with the most users.\n",
    "\n",
    "To do this, I will calculate the average number of installs per app genre. This information can be found in the `'Installs'` column for the Google Play dataset. Unfortunately, this column does not exist for the App Store data set, so I will use the total number of user ratings (`'rating_count_tot'`) instead."
   ]
  },
  {
   "cell_type": "code",
   "execution_count": 25,
   "metadata": {},
   "outputs": [
    {
     "name": "stdout",
     "output_type": "stream",
     "text": [
      "Social Networking : 71548.34905660378\n",
      "Photo & Video : 28441.54375\n",
      "Games : 22788.6696905016\n",
      "Music : 57326.530303030304\n",
      "Reference : 74942.11111111111\n",
      "Health & Fitness : 23298.015384615384\n",
      "Weather : 52279.892857142855\n",
      "Utilities : 18684.456790123455\n",
      "Travel : 28243.8\n",
      "Shopping : 26919.690476190477\n",
      "News : 21248.023255813954\n",
      "Navigation : 86090.33333333333\n",
      "Lifestyle : 16485.764705882353\n",
      "Entertainment : 14029.830708661417\n",
      "Food & Drink : 33333.92307692308\n",
      "Sports : 23008.898550724636\n",
      "Book : 39758.5\n",
      "Finance : 31467.944444444445\n",
      "Education : 7003.983050847458\n",
      "Productivity : 21028.410714285714\n",
      "Business : 7491.117647058823\n",
      "Catalogs : 4004.0\n",
      "Medical : 612.0\n"
     ]
    }
   ],
   "source": [
    "apple_ft = freq_table(apple_final,11)\n",
    "\n",
    "for genre in apple_ft:\n",
    "    total = 0\n",
    "    len_genre = 0\n",
    "    for row in apple_final:\n",
    "        genre_app = row[11]\n",
    "        if genre_app == genre:\n",
    "            n_ratings = float(row[5])\n",
    "            total += n_ratings\n",
    "            len_genre += 1\n",
    "    avg_ratings = total/len_genre\n",
    "    print(genre, ':', avg_ratings)"
   ]
  },
  {
   "cell_type": "markdown",
   "metadata": {},
   "source": [
    "Based on the above metric, the app genres with the highest average number of users are the following:\n",
    "* Navigation\n",
    "* Reference\n",
    "* Social Networking\n",
    "* Music\n",
    "* Weather\n",
    "\n",
    "Let's take a closer look at the top genre, Navigation:"
   ]
  },
  {
   "cell_type": "code",
   "execution_count": 26,
   "metadata": {
    "scrolled": false
   },
   "outputs": [
    {
     "name": "stdout",
     "output_type": "stream",
     "text": [
      "Navigation ---\n",
      "Waze - GPS Navigation, Maps & Real-time Traffic : 345046\n",
      "Google Maps - Navigation & Transit : 154911\n",
      "Geocaching® : 12811\n",
      "CoPilot GPS – Car Navigation & Offline Maps : 3582\n",
      "ImmobilienScout24: Real Estate Search in Germany : 187\n",
      "Railway Route Search : 5\n"
     ]
    }
   ],
   "source": [
    "print('Navigation ---')\n",
    "for apps in apple_final:\n",
    "    if apps[11] == 'Navigation':\n",
    "        print(apps[1],':',apps[5])"
   ]
  },
  {
   "cell_type": "markdown",
   "metadata": {},
   "source": [
    "Due to the fact that our popularity metric is based on averages, the numbers we attained can be heavily skewed by a few select outliers. This is clearly evident in a genre such as a Navigation, where the total number of ratings is completely dominated by Waze and Google Maps. This resulted in navigation topping the list of popular apps by genre, despite having only six total navigation apps in the dataset.\n",
    "\n",
    "Ideally, we want to choose a popular app genre with a market that is neither sparse (high competition), nor oversaturated. Recalling the results from the Most Common iOS Apps by Genre frequency table, gaming apps had a clear majority, indicating a completely oversaturated market. The genres that followed, however, had much more reasonable numbers: Entertainment, Photo & Video, Education, and Social Networking. Given the overlap between these and the most popular app genres, a free **Social Networking** app might be an app profile with a potential for high revenue in the App Store. Another option might be a **Music** app, which despite being in the top five for genre popularity, is really only \"middle of the pack\" in terms of app commonality.\n",
    "\n",
    "---\n",
    "Moving on to the Google Play dataset:"
   ]
  },
  {
   "cell_type": "code",
   "execution_count": 27,
   "metadata": {},
   "outputs": [
    {
     "name": "stdout",
     "output_type": "stream",
     "text": [
      "1,000,000+ : 15.726534296028882\n",
      "100,000+ : 11.552346570397113\n",
      "10,000,000+ : 10.548285198555957\n",
      "10,000+ : 10.198555956678701\n",
      "1,000+ : 8.393501805054152\n",
      "100+ : 6.915613718411553\n",
      "5,000,000+ : 6.825361010830325\n",
      "500,000+ : 5.561823104693141\n",
      "50,000+ : 4.772111913357401\n",
      "5,000+ : 4.512635379061372\n",
      "10+ : 3.542418772563177\n",
      "500+ : 3.2490974729241877\n",
      "50,000,000+ : 2.3014440433213\n",
      "100,000,000+ : 2.1322202166064983\n",
      "50+ : 1.9178700361010832\n",
      "5+ : 0.7897111913357401\n",
      "1+ : 0.5076714801444043\n",
      "500,000,000+ : 0.27075812274368233\n",
      "1,000,000,000+ : 0.2256317689530686\n",
      "0+ : 0.04512635379061372\n",
      "0 : 0.01128158844765343\n"
     ]
    }
   ],
   "source": [
    "#frequency table for 'Installs' column\n",
    "display_table(google_final,5)"
   ]
  },
  {
   "cell_type": "markdown",
   "metadata": {},
   "source": [
    "The dataset's `'Installs'` column should provide a clearer idea of the number of app users over the App Store's total number of ratings. However, this column is split into unequal intervals, so it should be noted that the number of installs for a given app is not precise.\n",
    "\n",
    "Furthermore, it should be noted that the App Store genres and the Google Play categories do not use the same labels. In fact, Google Play has 33 categories, while the App store only has 23 genres. This means that apps found in a particular App store genre might end up being split into multiple Google Play categories."
   ]
  },
  {
   "cell_type": "code",
   "execution_count": 40,
   "metadata": {
    "scrolled": false
   },
   "outputs": [
    {
     "name": "stdout",
     "output_type": "stream",
     "text": [
      "ART_AND_DESIGN : 1986335.0877192982\n",
      "AUTO_AND_VEHICLES : 647317.8170731707\n",
      "BEAUTY : 513151.88679245283\n",
      "BOOKS_AND_REFERENCE : 8767811.894736841\n",
      "BUSINESS : 1712290.1474201474\n",
      "COMICS : 817657.2727272727\n",
      "COMMUNICATION : 38456119.167247385\n",
      "DATING : 854028.8303030303\n",
      "EDUCATION : 1833495.145631068\n",
      "ENTERTAINMENT : 11640705.88235294\n",
      "EVENTS : 253542.22222222222\n",
      "FINANCE : 1387692.475609756\n",
      "FOOD_AND_DRINK : 1924897.7363636363\n",
      "HEALTH_AND_FITNESS : 4188821.9853479853\n",
      "HOUSE_AND_HOME : 1331540.5616438356\n",
      "LIBRARIES_AND_DEMO : 638503.734939759\n",
      "LIFESTYLE : 1437816.2687861272\n",
      "GAME : 15588015.603248259\n",
      "FAMILY : 3695641.8198090694\n",
      "MEDICAL : 120550.61980830671\n",
      "SOCIAL : 23253652.127118643\n",
      "SHOPPING : 7036877.311557789\n",
      "PHOTOGRAPHY : 17840110.40229885\n",
      "SPORTS : 3638640.1428571427\n",
      "TRAVEL_AND_LOCAL : 13984077.710144928\n",
      "TOOLS : 10801391.298666667\n",
      "PERSONALIZATION : 5201482.6122448975\n",
      "PRODUCTIVITY : 16787331.344927534\n",
      "PARENTING : 542603.6206896552\n",
      "WEATHER : 5074486.197183099\n",
      "VIDEO_PLAYERS : 24727872.452830188\n",
      "NEWS_AND_MAGAZINES : 9549178.467741935\n",
      "MAPS_AND_NAVIGATION : 4056941.7741935486\n"
     ]
    }
   ],
   "source": [
    "google_cat_ft = freq_table(google_final,1)\n",
    "\n",
    "for category in google_cat_ft:\n",
    "    total = 0\n",
    "    len_category = 0\n",
    "    for app in google_final:\n",
    "        category_app = app[1]\n",
    "        if category_app == category:\n",
    "            installs = float(app[5].replace('+','').replace(',',''))\n",
    "            #removed '+' and ',' characters for evaluation\n",
    "            total += installs\n",
    "            len_category += 1\n",
    "    avg_installs = total/len_category\n",
    "    print(category,':',avg_installs)"
   ]
  },
  {
   "cell_type": "markdown",
   "metadata": {},
   "source": [
    "The top five most installed apps on Google Play by Category are as follows:\n",
    "* Communication\n",
    "* Video Players\n",
    "* Social\n",
    "* Photography\n",
    "* Productivity\n",
    "\n",
    "Recalling the most common android apps, aside from Video Players, each of these individual categories comprises between 2-4% of free English Google Play apps. Thus, it is safe to say that none of these markets is oversaturated, nor overly sparse. This makes **Communication**, **Social**, **Photography**, and **Productivity** apps ideal choices for potential sources of revenue on Google Play.\n",
    "\n",
    "However, due to the choice and number of categories on Google Play, I suspect there might be some overlap. Let's look closer at the Communication and Social categories, alongside the App Store's Social Networking genre:"
   ]
  },
  {
   "cell_type": "code",
   "execution_count": 34,
   "metadata": {
    "scrolled": false
   },
   "outputs": [
    {
     "name": "stdout",
     "output_type": "stream",
     "text": [
      "Communication (Google Play) ---\n",
      "WhatsApp Messenger : 1,000,000,000+\n",
      "Messenger for SMS : 10,000,000+\n",
      "My Tele2 : 5,000,000+\n",
      "imo beta free calls and text : 100,000,000+\n",
      "Contacts : 50,000,000+\n",
      "Call Free – Free Call : 5,000,000+\n",
      "Web Browser & Explorer : 5,000,000+\n",
      "Browser 4G : 10,000,000+\n",
      "MegaFon Dashboard : 10,000,000+\n",
      "ZenUI Dialer & Contacts : 10,000,000+\n",
      "\n",
      "\n",
      "Social (Google Play) ---\n",
      "Facebook : 1,000,000,000+\n",
      "Facebook Lite : 500,000,000+\n",
      "Tumblr : 100,000,000+\n",
      "Social network all in one 2018 : 100,000+\n",
      "Pinterest : 100,000,000+\n",
      "TextNow - free text + calls : 10,000,000+\n",
      "Google+ : 1,000,000,000+\n",
      "The Messenger App : 1,000,000+\n",
      "Messenger Pro : 1,000,000+\n",
      "Free Messages, Video, Chat,Text for Messenger Plus : 1,000,000+\n",
      "\n",
      "\n",
      "Social Networking (App Store) ---\n",
      "Facebook : 2974676\n",
      "Pinterest : 1061624\n",
      "Skype for iPhone : 373519\n",
      "Messenger : 351466\n",
      "Tumblr : 334293\n",
      "WhatsApp Messenger : 287589\n",
      "Kik : 260965\n",
      "ooVoo – Free Video Call, Text and Voice : 177501\n",
      "TextNow - Unlimited Text + Calls : 164963\n",
      "Viber Messenger – Text & Call : 164249\n"
     ]
    }
   ],
   "source": [
    "print('Communication (Google Play) ---')\n",
    "rows = 10\n",
    "for apps in google_final:\n",
    "    if apps[1] == 'COMMUNICATION' and rows > 0:\n",
    "        print(apps[0],':',apps[5])\n",
    "        rows -= 1\n",
    "        \n",
    "print('\\n')\n",
    "print('Social (Google Play) ---')\n",
    "rows = 10\n",
    "for apps in google_final:\n",
    "    if apps[1] == 'SOCIAL' and rows > 0:\n",
    "        print(apps[0],':',apps[5])\n",
    "        rows -= 1\n",
    "        \n",
    "print('\\n')\n",
    "print('Social Networking (App Store) ---')\n",
    "rows = 10\n",
    "for apps in apple_final:\n",
    "    if apps[11] == 'Social Networking' and rows > 0:\n",
    "        print(apps[1],':',apps[5])\n",
    "        rows -= 1"
   ]
  },
  {
   "cell_type": "markdown",
   "metadata": {},
   "source": [
    "According to Google Play, apps such as WhatsApp and Messenger are considered Communication apps, while the Facebook and Pinterest apps are considered Social apps. However, all four of these apps are placed in the Social Networking genre in the App Store.\n",
    "\n",
    "When combined, these apps still only make up about 6% of apps on the Google Play dataset, but still top the list of popular apps with a combined ~ 32 million average installs by users. This means that an app comprising both **Social** & **Communication** aspects is not only extremely popular, but exists in a market that is neither oversaturated nor sparse."
   ]
  },
  {
   "cell_type": "markdown",
   "metadata": {},
   "source": [
    "## Conclusion\n",
    "\n",
    "Overall, the aim of this project was to determine the types of apps which would be successful in both the free English iOS and Android markets. While there were a number of app profiles that were found to be potentially successful in each individual market, there was a clear crossover in the potential for success of  a free English **Social Networking** app. \n",
    "\n",
    "Neither the App Store's Social Networking genre, nor Google Play's Communication or Social categories seem to be oversaturated with the number of apps available. Nor were they sparse, leaving plenty of room for potential competition to corner a piece of each market's immense popularity. \n",
    "\n",
    "Therefore, I believe a new **Social Networking** app would have the greatest amount of potential for revenue."
   ]
  }
 ],
 "metadata": {
  "kernelspec": {
   "display_name": "Python 3",
   "language": "python",
   "name": "python3"
  },
  "language_info": {
   "codemirror_mode": {
    "name": "ipython",
    "version": 3
   },
   "file_extension": ".py",
   "mimetype": "text/x-python",
   "name": "python",
   "nbconvert_exporter": "python",
   "pygments_lexer": "ipython3",
   "version": "3.8.2"
  }
 },
 "nbformat": 4,
 "nbformat_minor": 2
}
